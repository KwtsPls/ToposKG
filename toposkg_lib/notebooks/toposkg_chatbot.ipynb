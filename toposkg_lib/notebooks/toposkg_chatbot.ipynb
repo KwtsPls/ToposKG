{
  "cells": [
    {
      "metadata": {
        "id": "81be39d9f2282f10"
      },
      "cell_type": "markdown",
      "source": [
        "# A notebook demonstrating the use of the **toposkg-lib** LLM function calling loop."
      ],
      "id": "81be39d9f2282f10"
    },
    {
      "cell_type": "markdown",
      "source": [
        "### Install library and dependencies\n",
        "\n",
        "toposkg-lib is provided as a pypi package. We recommend that the user installs our version of rdflib, which includes a workaround to speed-up file parsing."
      ],
      "metadata": {
        "id": "yus-5j_5_chy"
      },
      "id": "yus-5j_5_chy"
    },
    {
      "cell_type": "code",
      "source": [
        "!pip install --index-url https://test.pypi.org/simple/ \\\n",
        "  --extra-index-url https://pypi.org/simple \\\n",
        "  \"toposkg[fc]==0.1.3.dev5\"\n",
        "!pip install git+https://github.com/SKefalidis/rdflib-speed@main"
      ],
      "metadata": {
        "colab": {
          "base_uri": "https://localhost:8080/"
        },
        "id": "tY2s1IRXULCH",
        "outputId": "8c91d561-7790-4bdd-f89f-8c4dfaf80f2b",
        "collapsed": true
      },
      "id": "tY2s1IRXULCH",
      "execution_count": 1,
      "outputs": [
        {
          "output_type": "stream",
          "name": "stdout",
          "text": [
            "Looking in indexes: https://test.pypi.org/simple/, https://pypi.org/simple\n",
            "Collecting toposkg==0.1.3.dev5 (from toposkg[fc]==0.1.3.dev5)\n",
            "  Downloading https://test-files.pythonhosted.org/packages/d3/06/584223618c31e838493a00a3ed31a5d9828ee8ad62500498f1a3bf864ca4/toposkg-0.1.3.dev5-py3-none-any.whl.metadata (2.8 kB)\n",
            "Requirement already satisfied: fsspec in /usr/local/lib/python3.11/dist-packages (from toposkg==0.1.3.dev5->toposkg[fc]==0.1.3.dev5) (2025.3.0)\n",
            "Requirement already satisfied: pyjedai in /usr/local/lib/python3.11/dist-packages (from toposkg==0.1.3.dev5->toposkg[fc]==0.1.3.dev5) (0.3.0)\n",
            "Requirement already satisfied: pandas in /usr/local/lib/python3.11/dist-packages (from toposkg==0.1.3.dev5->toposkg[fc]==0.1.3.dev5) (2.1.4)\n",
            "Requirement already satisfied: rich in /usr/local/lib/python3.11/dist-packages (from toposkg==0.1.3.dev5->toposkg[fc]==0.1.3.dev5) (13.9.4)\n",
            "Requirement already satisfied: openai in /usr/local/lib/python3.11/dist-packages (from toposkg[fc]==0.1.3.dev5) (1.86.0)\n",
            "Requirement already satisfied: anyio<5,>=3.5.0 in /usr/local/lib/python3.11/dist-packages (from openai->toposkg[fc]==0.1.3.dev5) (4.9.0)\n",
            "Requirement already satisfied: distro<2,>=1.7.0 in /usr/local/lib/python3.11/dist-packages (from openai->toposkg[fc]==0.1.3.dev5) (1.9.0)\n",
            "Requirement already satisfied: httpx<1,>=0.23.0 in /usr/local/lib/python3.11/dist-packages (from openai->toposkg[fc]==0.1.3.dev5) (0.28.1)\n",
            "Requirement already satisfied: jiter<1,>=0.4.0 in /usr/local/lib/python3.11/dist-packages (from openai->toposkg[fc]==0.1.3.dev5) (0.10.0)\n",
            "Requirement already satisfied: pydantic<3,>=1.9.0 in /usr/local/lib/python3.11/dist-packages (from openai->toposkg[fc]==0.1.3.dev5) (2.11.7)\n",
            "Requirement already satisfied: sniffio in /usr/local/lib/python3.11/dist-packages (from openai->toposkg[fc]==0.1.3.dev5) (1.3.1)\n",
            "Requirement already satisfied: tqdm>4 in /usr/local/lib/python3.11/dist-packages (from openai->toposkg[fc]==0.1.3.dev5) (4.67.1)\n",
            "Requirement already satisfied: typing-extensions<5,>=4.11 in /usr/local/lib/python3.11/dist-packages (from openai->toposkg[fc]==0.1.3.dev5) (4.14.0)\n",
            "Requirement already satisfied: numpy<2,>=1.23.2 in /usr/local/lib/python3.11/dist-packages (from pandas->toposkg==0.1.3.dev5->toposkg[fc]==0.1.3.dev5) (1.26.4)\n",
            "Requirement already satisfied: python-dateutil>=2.8.2 in /usr/local/lib/python3.11/dist-packages (from pandas->toposkg==0.1.3.dev5->toposkg[fc]==0.1.3.dev5) (2.9.0.post0)\n",
            "Requirement already satisfied: pytz>=2020.1 in /usr/local/lib/python3.11/dist-packages (from pandas->toposkg==0.1.3.dev5->toposkg[fc]==0.1.3.dev5) (2025.2)\n",
            "Requirement already satisfied: tzdata>=2022.1 in /usr/local/lib/python3.11/dist-packages (from pandas->toposkg==0.1.3.dev5->toposkg[fc]==0.1.3.dev5) (2025.2)\n",
            "Requirement already satisfied: gensim in /usr/local/lib/python3.11/dist-packages (from pyjedai->toposkg==0.1.3.dev5->toposkg[fc]==0.1.3.dev5) (4.3.3)\n",
            "Requirement already satisfied: matplotlib in /usr/local/lib/python3.11/dist-packages (from pyjedai->toposkg==0.1.3.dev5->toposkg[fc]==0.1.3.dev5) (3.10.0)\n",
            "Requirement already satisfied: networkx in /usr/local/lib/python3.11/dist-packages (from pyjedai->toposkg==0.1.3.dev5->toposkg[fc]==0.1.3.dev5) (3.5)\n",
            "Requirement already satisfied: nltk in /usr/local/lib/python3.11/dist-packages (from pyjedai->toposkg==0.1.3.dev5->toposkg[fc]==0.1.3.dev5) (3.9.1)\n",
            "Requirement already satisfied: scipy==1.12 in /usr/local/lib/python3.11/dist-packages (from pyjedai->toposkg==0.1.3.dev5->toposkg[fc]==0.1.3.dev5) (1.12.0)\n",
            "Requirement already satisfied: seaborn in /usr/local/lib/python3.11/dist-packages (from pyjedai->toposkg==0.1.3.dev5->toposkg[fc]==0.1.3.dev5) (0.13.2)\n",
            "Requirement already satisfied: transformers in /usr/local/lib/python3.11/dist-packages (from pyjedai->toposkg==0.1.3.dev5->toposkg[fc]==0.1.3.dev5) (4.51.3)\n",
            "Requirement already satisfied: sentence-transformers in /usr/local/lib/python3.11/dist-packages (from pyjedai->toposkg==0.1.3.dev5->toposkg[fc]==0.1.3.dev5) (4.1.0)\n",
            "Requirement already satisfied: faiss-cpu in /usr/local/lib/python3.11/dist-packages (from pyjedai->toposkg==0.1.3.dev5->toposkg[fc]==0.1.3.dev5) (1.11.0)\n",
            "Requirement already satisfied: py-stringmatching in /usr/local/lib/python3.11/dist-packages (from pyjedai->toposkg==0.1.3.dev5->toposkg[fc]==0.1.3.dev5) (0.4.6)\n",
            "Requirement already satisfied: valentine in /usr/local/lib/python3.11/dist-packages (from pyjedai->toposkg==0.1.3.dev5->toposkg[fc]==0.1.3.dev5) (0.2.1)\n",
            "Requirement already satisfied: ordered-set in /usr/local/lib/python3.11/dist-packages (from pyjedai->toposkg==0.1.3.dev5->toposkg[fc]==0.1.3.dev5) (4.1.0)\n",
            "Requirement already satisfied: shapely in /usr/local/lib/python3.11/dist-packages (from pyjedai->toposkg==0.1.3.dev5->toposkg[fc]==0.1.3.dev5) (2.1.1)\n",
            "Requirement already satisfied: markdown-it-py>=2.2.0 in /usr/local/lib/python3.11/dist-packages (from rich->toposkg==0.1.3.dev5->toposkg[fc]==0.1.3.dev5) (3.0.0)\n",
            "Requirement already satisfied: pygments<3.0.0,>=2.13.0 in /usr/local/lib/python3.11/dist-packages (from rich->toposkg==0.1.3.dev5->toposkg[fc]==0.1.3.dev5) (2.19.1)\n",
            "Requirement already satisfied: idna>=2.8 in /usr/local/lib/python3.11/dist-packages (from anyio<5,>=3.5.0->openai->toposkg[fc]==0.1.3.dev5) (3.10)\n",
            "Requirement already satisfied: certifi in /usr/local/lib/python3.11/dist-packages (from httpx<1,>=0.23.0->openai->toposkg[fc]==0.1.3.dev5) (2025.6.15)\n",
            "Requirement already satisfied: httpcore==1.* in /usr/local/lib/python3.11/dist-packages (from httpx<1,>=0.23.0->openai->toposkg[fc]==0.1.3.dev5) (1.0.9)\n",
            "Requirement already satisfied: h11>=0.16 in /usr/local/lib/python3.11/dist-packages (from httpcore==1.*->httpx<1,>=0.23.0->openai->toposkg[fc]==0.1.3.dev5) (0.16.0)\n",
            "Requirement already satisfied: mdurl~=0.1 in /usr/local/lib/python3.11/dist-packages (from markdown-it-py>=2.2.0->rich->toposkg==0.1.3.dev5->toposkg[fc]==0.1.3.dev5) (0.1.2)\n",
            "Requirement already satisfied: annotated-types>=0.6.0 in /usr/local/lib/python3.11/dist-packages (from pydantic<3,>=1.9.0->openai->toposkg[fc]==0.1.3.dev5) (0.7.0)\n",
            "Requirement already satisfied: pydantic-core==2.33.2 in /usr/local/lib/python3.11/dist-packages (from pydantic<3,>=1.9.0->openai->toposkg[fc]==0.1.3.dev5) (2.33.2)\n",
            "Requirement already satisfied: typing-inspection>=0.4.0 in /usr/local/lib/python3.11/dist-packages (from pydantic<3,>=1.9.0->openai->toposkg[fc]==0.1.3.dev5) (0.4.1)\n",
            "Requirement already satisfied: six>=1.5 in /usr/local/lib/python3.11/dist-packages (from python-dateutil>=2.8.2->pandas->toposkg==0.1.3.dev5->toposkg[fc]==0.1.3.dev5) (1.17.0)\n",
            "Requirement already satisfied: packaging in /usr/local/lib/python3.11/dist-packages (from faiss-cpu->pyjedai->toposkg==0.1.3.dev5->toposkg[fc]==0.1.3.dev5) (24.2)\n",
            "Requirement already satisfied: smart-open>=1.8.1 in /usr/local/lib/python3.11/dist-packages (from gensim->pyjedai->toposkg==0.1.3.dev5->toposkg[fc]==0.1.3.dev5) (7.1.0)\n",
            "Requirement already satisfied: contourpy>=1.0.1 in /usr/local/lib/python3.11/dist-packages (from matplotlib->pyjedai->toposkg==0.1.3.dev5->toposkg[fc]==0.1.3.dev5) (1.3.2)\n",
            "Requirement already satisfied: cycler>=0.10 in /usr/local/lib/python3.11/dist-packages (from matplotlib->pyjedai->toposkg==0.1.3.dev5->toposkg[fc]==0.1.3.dev5) (0.12.1)\n",
            "Requirement already satisfied: fonttools>=4.22.0 in /usr/local/lib/python3.11/dist-packages (from matplotlib->pyjedai->toposkg==0.1.3.dev5->toposkg[fc]==0.1.3.dev5) (4.58.4)\n",
            "Requirement already satisfied: kiwisolver>=1.3.1 in /usr/local/lib/python3.11/dist-packages (from matplotlib->pyjedai->toposkg==0.1.3.dev5->toposkg[fc]==0.1.3.dev5) (1.4.8)\n",
            "Requirement already satisfied: pillow>=8 in /usr/local/lib/python3.11/dist-packages (from matplotlib->pyjedai->toposkg==0.1.3.dev5->toposkg[fc]==0.1.3.dev5) (11.2.1)\n",
            "Requirement already satisfied: pyparsing>=2.3.1 in /usr/local/lib/python3.11/dist-packages (from matplotlib->pyjedai->toposkg==0.1.3.dev5->toposkg[fc]==0.1.3.dev5) (3.2.3)\n",
            "Requirement already satisfied: click in /usr/local/lib/python3.11/dist-packages (from nltk->pyjedai->toposkg==0.1.3.dev5->toposkg[fc]==0.1.3.dev5) (8.2.1)\n",
            "Requirement already satisfied: joblib in /usr/local/lib/python3.11/dist-packages (from nltk->pyjedai->toposkg==0.1.3.dev5->toposkg[fc]==0.1.3.dev5) (1.5.1)\n",
            "Requirement already satisfied: regex>=2021.8.3 in /usr/local/lib/python3.11/dist-packages (from nltk->pyjedai->toposkg==0.1.3.dev5->toposkg[fc]==0.1.3.dev5) (2024.11.6)\n",
            "Requirement already satisfied: torch>=1.11.0 in /usr/local/lib/python3.11/dist-packages (from sentence-transformers->pyjedai->toposkg==0.1.3.dev5->toposkg[fc]==0.1.3.dev5) (2.7.0)\n",
            "Requirement already satisfied: scikit-learn in /usr/local/lib/python3.11/dist-packages (from sentence-transformers->pyjedai->toposkg==0.1.3.dev5->toposkg[fc]==0.1.3.dev5) (1.6.1)\n",
            "Requirement already satisfied: huggingface-hub>=0.20.0 in /usr/local/lib/python3.11/dist-packages (from sentence-transformers->pyjedai->toposkg==0.1.3.dev5->toposkg[fc]==0.1.3.dev5) (0.33.0)\n",
            "Requirement already satisfied: filelock in /usr/local/lib/python3.11/dist-packages (from transformers->pyjedai->toposkg==0.1.3.dev5->toposkg[fc]==0.1.3.dev5) (3.18.0)\n",
            "Requirement already satisfied: pyyaml>=5.1 in /usr/local/lib/python3.11/dist-packages (from transformers->pyjedai->toposkg==0.1.3.dev5->toposkg[fc]==0.1.3.dev5) (6.0.2)\n",
            "Requirement already satisfied: requests in /usr/local/lib/python3.11/dist-packages (from transformers->pyjedai->toposkg==0.1.3.dev5->toposkg[fc]==0.1.3.dev5) (2.32.3)\n",
            "Requirement already satisfied: tokenizers<0.22,>=0.21 in /usr/local/lib/python3.11/dist-packages (from transformers->pyjedai->toposkg==0.1.3.dev5->toposkg[fc]==0.1.3.dev5) (0.21.1)\n",
            "Requirement already satisfied: safetensors>=0.4.3 in /usr/local/lib/python3.11/dist-packages (from transformers->pyjedai->toposkg==0.1.3.dev5->toposkg[fc]==0.1.3.dev5) (0.5.3)\n",
            "Requirement already satisfied: setuptools in /usr/local/lib/python3.11/dist-packages (from valentine->pyjedai->toposkg==0.1.3.dev5->toposkg[fc]==0.1.3.dev5) (75.2.0)\n",
            "Requirement already satisfied: anytree<3.0,>=2.9 in /usr/local/lib/python3.11/dist-packages (from valentine->pyjedai->toposkg==0.1.3.dev5->toposkg[fc]==0.1.3.dev5) (2.13.0)\n",
            "Requirement already satisfied: chardet<6.0.0,>=5.2.0 in /usr/local/lib/python3.11/dist-packages (from valentine->pyjedai->toposkg==0.1.3.dev5->toposkg[fc]==0.1.3.dev5) (5.2.0)\n",
            "Requirement already satisfied: jellyfish<1.1,>=0.9 in /usr/local/lib/python3.11/dist-packages (from valentine->pyjedai->toposkg==0.1.3.dev5->toposkg[fc]==0.1.3.dev5) (1.0.4)\n",
            "Requirement already satisfied: PuLP<3.0,>=2.5 in /usr/local/lib/python3.11/dist-packages (from valentine->pyjedai->toposkg==0.1.3.dev5->toposkg[fc]==0.1.3.dev5) (2.9.0)\n",
            "Requirement already satisfied: pyemd<2.0,>=1.0.0 in /usr/local/lib/python3.11/dist-packages (from valentine->pyjedai->toposkg==0.1.3.dev5->toposkg[fc]==0.1.3.dev5) (1.0.0)\n",
            "Requirement already satisfied: hf-xet<2.0.0,>=1.1.2 in /usr/local/lib/python3.11/dist-packages (from huggingface-hub>=0.20.0->sentence-transformers->pyjedai->toposkg==0.1.3.dev5->toposkg[fc]==0.1.3.dev5) (1.1.3)\n",
            "Requirement already satisfied: wrapt in /usr/local/lib/python3.11/dist-packages (from smart-open>=1.8.1->gensim->pyjedai->toposkg==0.1.3.dev5->toposkg[fc]==0.1.3.dev5) (1.17.2)\n",
            "Requirement already satisfied: sympy>=1.13.3 in /usr/local/lib/python3.11/dist-packages (from torch>=1.11.0->sentence-transformers->pyjedai->toposkg==0.1.3.dev5->toposkg[fc]==0.1.3.dev5) (1.14.0)\n",
            "Requirement already satisfied: jinja2 in /usr/local/lib/python3.11/dist-packages (from torch>=1.11.0->sentence-transformers->pyjedai->toposkg==0.1.3.dev5->toposkg[fc]==0.1.3.dev5) (3.1.6)\n",
            "Requirement already satisfied: nvidia-cuda-nvrtc-cu12==12.6.77 in /usr/local/lib/python3.11/dist-packages (from torch>=1.11.0->sentence-transformers->pyjedai->toposkg==0.1.3.dev5->toposkg[fc]==0.1.3.dev5) (12.6.77)\n",
            "Requirement already satisfied: nvidia-cuda-runtime-cu12==12.6.77 in /usr/local/lib/python3.11/dist-packages (from torch>=1.11.0->sentence-transformers->pyjedai->toposkg==0.1.3.dev5->toposkg[fc]==0.1.3.dev5) (12.6.77)\n",
            "Requirement already satisfied: nvidia-cuda-cupti-cu12==12.6.80 in /usr/local/lib/python3.11/dist-packages (from torch>=1.11.0->sentence-transformers->pyjedai->toposkg==0.1.3.dev5->toposkg[fc]==0.1.3.dev5) (12.6.80)\n",
            "Requirement already satisfied: nvidia-cudnn-cu12==9.5.1.17 in /usr/local/lib/python3.11/dist-packages (from torch>=1.11.0->sentence-transformers->pyjedai->toposkg==0.1.3.dev5->toposkg[fc]==0.1.3.dev5) (9.5.1.17)\n",
            "Requirement already satisfied: nvidia-cublas-cu12==12.6.4.1 in /usr/local/lib/python3.11/dist-packages (from torch>=1.11.0->sentence-transformers->pyjedai->toposkg==0.1.3.dev5->toposkg[fc]==0.1.3.dev5) (12.6.4.1)\n",
            "Requirement already satisfied: nvidia-cufft-cu12==11.3.0.4 in /usr/local/lib/python3.11/dist-packages (from torch>=1.11.0->sentence-transformers->pyjedai->toposkg==0.1.3.dev5->toposkg[fc]==0.1.3.dev5) (11.3.0.4)\n",
            "Requirement already satisfied: nvidia-curand-cu12==10.3.7.77 in /usr/local/lib/python3.11/dist-packages (from torch>=1.11.0->sentence-transformers->pyjedai->toposkg==0.1.3.dev5->toposkg[fc]==0.1.3.dev5) (10.3.7.77)\n",
            "Requirement already satisfied: nvidia-cusolver-cu12==11.7.1.2 in /usr/local/lib/python3.11/dist-packages (from torch>=1.11.0->sentence-transformers->pyjedai->toposkg==0.1.3.dev5->toposkg[fc]==0.1.3.dev5) (11.7.1.2)\n",
            "Requirement already satisfied: nvidia-cusparse-cu12==12.5.4.2 in /usr/local/lib/python3.11/dist-packages (from torch>=1.11.0->sentence-transformers->pyjedai->toposkg==0.1.3.dev5->toposkg[fc]==0.1.3.dev5) (12.5.4.2)\n",
            "Requirement already satisfied: nvidia-cusparselt-cu12==0.6.3 in /usr/local/lib/python3.11/dist-packages (from torch>=1.11.0->sentence-transformers->pyjedai->toposkg==0.1.3.dev5->toposkg[fc]==0.1.3.dev5) (0.6.3)\n",
            "Requirement already satisfied: nvidia-nccl-cu12==2.26.2 in /usr/local/lib/python3.11/dist-packages (from torch>=1.11.0->sentence-transformers->pyjedai->toposkg==0.1.3.dev5->toposkg[fc]==0.1.3.dev5) (2.26.2)\n",
            "Requirement already satisfied: nvidia-nvtx-cu12==12.6.77 in /usr/local/lib/python3.11/dist-packages (from torch>=1.11.0->sentence-transformers->pyjedai->toposkg==0.1.3.dev5->toposkg[fc]==0.1.3.dev5) (12.6.77)\n",
            "Requirement already satisfied: nvidia-nvjitlink-cu12==12.6.85 in /usr/local/lib/python3.11/dist-packages (from torch>=1.11.0->sentence-transformers->pyjedai->toposkg==0.1.3.dev5->toposkg[fc]==0.1.3.dev5) (12.6.85)\n",
            "Requirement already satisfied: nvidia-cufile-cu12==1.11.1.6 in /usr/local/lib/python3.11/dist-packages (from torch>=1.11.0->sentence-transformers->pyjedai->toposkg==0.1.3.dev5->toposkg[fc]==0.1.3.dev5) (1.11.1.6)\n",
            "Requirement already satisfied: triton==3.3.0 in /usr/local/lib/python3.11/dist-packages (from torch>=1.11.0->sentence-transformers->pyjedai->toposkg==0.1.3.dev5->toposkg[fc]==0.1.3.dev5) (3.3.0)\n",
            "Requirement already satisfied: charset-normalizer<4,>=2 in /usr/local/lib/python3.11/dist-packages (from requests->transformers->pyjedai->toposkg==0.1.3.dev5->toposkg[fc]==0.1.3.dev5) (3.4.2)\n",
            "Requirement already satisfied: urllib3<3,>=1.21.1 in /usr/local/lib/python3.11/dist-packages (from requests->transformers->pyjedai->toposkg==0.1.3.dev5->toposkg[fc]==0.1.3.dev5) (2.4.0)\n",
            "Requirement already satisfied: threadpoolctl>=3.1.0 in /usr/local/lib/python3.11/dist-packages (from scikit-learn->sentence-transformers->pyjedai->toposkg==0.1.3.dev5->toposkg[fc]==0.1.3.dev5) (3.6.0)\n",
            "Requirement already satisfied: mpmath<1.4,>=1.1.0 in /usr/local/lib/python3.11/dist-packages (from sympy>=1.13.3->torch>=1.11.0->sentence-transformers->pyjedai->toposkg==0.1.3.dev5->toposkg[fc]==0.1.3.dev5) (1.3.0)\n",
            "Requirement already satisfied: MarkupSafe>=2.0 in /usr/local/lib/python3.11/dist-packages (from jinja2->torch>=1.11.0->sentence-transformers->pyjedai->toposkg==0.1.3.dev5->toposkg[fc]==0.1.3.dev5) (3.0.2)\n",
            "Downloading https://test-files.pythonhosted.org/packages/d3/06/584223618c31e838493a00a3ed31a5d9828ee8ad62500498f1a3bf864ca4/toposkg-0.1.3.dev5-py3-none-any.whl (65.5 MB)\n",
            "\u001b[2K   \u001b[90m━━━━━━━━━━━━━━━━━━━━━━━━━━━━━━━━━━━━━━━━\u001b[0m \u001b[32m65.5/65.5 MB\u001b[0m \u001b[31m2.0 MB/s\u001b[0m eta \u001b[36m0:00:00\u001b[0m\n",
            "\u001b[?25hInstalling collected packages: toposkg\n",
            "  Attempting uninstall: toposkg\n",
            "    Found existing installation: toposkg 0.1.3.dev4\n",
            "    Uninstalling toposkg-0.1.3.dev4:\n",
            "      Successfully uninstalled toposkg-0.1.3.dev4\n",
            "Successfully installed toposkg-0.1.3.dev5\n",
            "Collecting git+https://github.com/SKefalidis/rdflib-speed@main\n",
            "  Cloning https://github.com/SKefalidis/rdflib-speed (to revision main) to /tmp/pip-req-build-_ji82rfv\n",
            "  Running command git clone --filter=blob:none --quiet https://github.com/SKefalidis/rdflib-speed /tmp/pip-req-build-_ji82rfv\n",
            "  Resolved https://github.com/SKefalidis/rdflib-speed to commit f83c401fe21c30574b2aad04fd2044cc25d70348\n",
            "  Installing build dependencies ... \u001b[?25l\u001b[?25hdone\n",
            "  Getting requirements to build wheel ... \u001b[?25l\u001b[?25hdone\n",
            "  Preparing metadata (pyproject.toml) ... \u001b[?25l\u001b[?25hdone\n",
            "Requirement already satisfied: pyparsing<4,>=3.2.0 in /usr/local/lib/python3.11/dist-packages (from rdflib==8.0.0a0) (3.2.3)\n"
          ]
        }
      ]
    },
    {
      "cell_type": "code",
      "source": [
        "!pip show toposkg"
      ],
      "metadata": {
        "colab": {
          "base_uri": "https://localhost:8080/"
        },
        "id": "dwSchRvVYJUt",
        "outputId": "e005c931-698e-4367-bdd2-ce2b2a80a427"
      },
      "id": "dwSchRvVYJUt",
      "execution_count": 2,
      "outputs": [
        {
          "output_type": "stream",
          "name": "stdout",
          "text": [
            "Name: toposkg\n",
            "Version: 0.1.3.dev5\n",
            "Summary: A Python interface to the ToposKG knowledge graph generation pipeline.\n",
            "Home-page: \n",
            "Author: \n",
            "Author-email: Sergios-Anestis Kefalidis <skefalidis@di.uoa.gr>, Kostas Plas <kplas@di.uoa.gr>\n",
            "License: MIT\n",
            "Location: /usr/local/lib/python3.11/dist-packages\n",
            "Requires: fsspec, pandas, pyjedai, rich\n",
            "Required-by: \n"
          ]
        }
      ]
    },
    {
      "metadata": {
        "id": "5a1948f029851c73"
      },
      "cell_type": "markdown",
      "source": [
        "### LLM-powered chatbot loop\n",
        "\n",
        "The LLM (currently only available through the OpenAI API) uses function calling to utilize the toposkg library.\n",
        "\n",
        "A conversation loop is implemented."
      ],
      "id": "5a1948f029851c73"
    },
    {
      "cell_type": "code",
      "id": "initial_id",
      "metadata": {
        "collapsed": true,
        "ExecuteTime": {
          "end_time": "2025-05-11T17:22:13.494440Z",
          "start_time": "2025-05-11T17:22:13.443526Z"
        },
        "id": "initial_id",
        "colab": {
          "base_uri": "https://localhost:8080/",
          "height": 887,
          "referenced_widgets": [
            "2100593aae234d67b330cb061bf9cfd6",
            "528fa026ee3d414290c2822abc17d768",
            "b57c1761c1674b8781b550d39055f543",
            "005bab5cc2a84a8fb4f78c516892f861"
          ]
        },
        "outputId": "1dcccd73-a603-4b60-9f0d-bb7a1eb13d30"
      },
      "source": [
        "from toposkg.toposkg_lib_fc import *\n",
        "\n",
        "fc = FunctionCallingController(\"YOUR_OPEN_AI_API_KEY\", 'https://toposkg.di.uoa.gr')\n",
        "\n",
        "while True:\n",
        "    user_input = input(\"User: \")\n",
        "    if user_input.lower() == \"exit\":\n",
        "        break\n",
        "    fc.respond_to_chat(user_input, print_output=True)"
      ],
      "outputs": [
        {
          "output_type": "stream",
          "name": "stdout",
          "text": [
            "Do you want to proceed with downloading the entire knowledge graph sources (100gb+)? Any previously downloaded sources will not be redownloaded. (y/n)n\n",
            "Skipping download of sources...\n",
            "Loading source information from ~/.toposkg/sources_cache\n",
            "User: What data sources about Greece are available?\n",
            "ResponseFunctionToolCall(arguments='{}', call_id='call_2kGzIjuPbsyV89B8xPDuV2Vu', name='source_manager_get_source_paths', type='function_call', id='fc_68568e72e970819b9a6085917ea75c3e0020b0dee6da0670', status='completed')\n",
            "Assistant: There are multiple data sources available about Greece. These include:\n",
            "\n",
            "1. GAUL country datasets:\n",
            "- /root/.toposkg/sources_cache/toposkg/GAUL/countries/Greece/Greece_0.nt\n",
            "- /root/.toposkg/sources_cache/toposkg/GAUL/countries/Greece/Greece_1.nt\n",
            "- /root/.toposkg/sources_cache/toposkg/GAUL/countries/Greece/Greece_2.nt\n",
            "- /root/.toposkg/sources_cache/toposkg/GAUL/countries/Greece/Greece_all.nt\n",
            "\n",
            "2. OSM country datasets:\n",
            "- /root/.toposkg/sources_cache/toposkg/OSM/countries/Greece/Greece_0.nt\n",
            "- /root/.toposkg/sources_cache/toposkg/OSM/countries/Greece/Greece_1.nt\n",
            "- /root/.toposkg/sources_cache/toposkg/OSM/countries/Greece/Greece_2.nt\n",
            "- /root/.toposkg/sources_cache/toposkg/OSM/countries/Greece/Greece_3.nt\n",
            "- /root/.toposkg/sources_cache/toposkg/OSM/countries/Greece/Greece_4.nt\n",
            "- /root/.toposkg/sources_cache/toposkg/OSM/countries/Greece/Greece_5.nt\n",
            "- /root/.toposkg/sources_cache/toposkg/OSM/countries/Greece/Greece_6.nt\n",
            "- /root/.toposkg/sources_cache/toposkg/OSM/countries/Greece/Greece_all.nt\n",
            "\n",
            "3. OSM forests data:\n",
            "- /root/.toposkg/sources_cache/toposkg/OSM/forests/Greece/greece_forest.nt\n",
            "\n",
            "4. OSM points of interest (POIs):\n",
            "- /root/.toposkg/sources_cache/toposkg/OSM/pois/Greece/greece_poi.nt\n",
            "\n",
            "5. OSM waterbodies data:\n",
            "- /root/.toposkg/sources_cache/toposkg/OSM/waterbodies/Greece/greece_water.nt\n",
            "\n",
            "If you need information from any specific dataset, please let me know!\n",
            "User: I want to use the GAUL Greece_all.nt data source and the greece_water data source.\n",
            "ResponseFunctionToolCall(arguments='{\"source_path\":\"/root/.toposkg/sources_cache/toposkg/GAUL/countries/Greece/Greece_all.nt\"}', call_id='call_YHlJFwrriDXALEqNm6QYsJmU', name='builder_add_source_path', type='function_call', id='fc_68568e9757d4819ba8355d02abcc74a60020b0dee6da0670', status='completed')\n",
            "ResponseFunctionToolCall(arguments='{\"source_path\":\"/root/.toposkg/sources_cache/toposkg/OSM/waterbodies/Greece/greece_water.nt\"}', call_id='call_O6E3x13oLCQ2gIrCZE6XsG53', name='builder_add_source_path', type='function_call', id='fc_68568e993b80819ba5318ee4b19cad5a0020b0dee6da0670', status='completed')\n",
            "Assistant: The GAUL Greece_all.nt data source and the Greece waterbodies data source have been added for use. What would you like to do next?\n",
            "User: Set the name for my graph to mykg.nt and the output directory to /content\n",
            "ResponseFunctionToolCall(arguments='{\"name\":\"mykg.nt\"}', call_id='call_n1gJbsmCbRxwfL4WHJ94D878', name='builder_set_name', type='function_call', id='fc_68568eb10288819ba06cb7c284cb32570020b0dee6da0670', status='completed')\n",
            "ResponseFunctionToolCall(arguments='{\"output_dir\":\"/content\"}', call_id='call_EgggCf4M18pYLLfudiMyPpKj', name='builder_set_output_dir', type='function_call', id='fc_68568eb12b88819ba75a30a04cced1f10020b0dee6da0670', status='completed')\n",
            "Assistant: The name for your graph has been set to \"mykg.nt\" and the output directory has been set to \"/content\". What would you like to do next?\n",
            "User: build the graph\n",
            "ResponseFunctionToolCall(arguments='{}', call_id='call_fPDdqRkVgipXLrFdZFR25YRV', name='builder_build', type='function_call', id='fc_68568ebafa5c819bb769c0b9dacec8e00020b0dee6da0670', status='completed')\n"
          ]
        },
        {
          "output_type": "display_data",
          "data": {
            "text/plain": [
              "\u001b[1;33mConstructing knowledge graph\u001b[0m\u001b[1;33m...\u001b[0m\n"
            ],
            "text/html": [
              "<pre style=\"white-space:pre;overflow-x:auto;line-height:normal;font-family:Menlo,'DejaVu Sans Mono',consolas,'Courier New',monospace\"><span style=\"color: #808000; text-decoration-color: #808000; font-weight: bold\">Constructing knowledge graph...</span>\n",
              "</pre>\n"
            ]
          },
          "metadata": {}
        },
        {
          "output_type": "display_data",
          "data": {
            "text/plain": [
              "Output()"
            ],
            "application/vnd.jupyter.widget-view+json": {
              "version_major": 2,
              "version_minor": 0,
              "model_id": "2100593aae234d67b330cb061bf9cfd6"
            }
          },
          "metadata": {}
        },
        {
          "output_type": "display_data",
          "data": {
            "text/plain": [],
            "text/html": [
              "<pre style=\"white-space:pre;overflow-x:auto;line-height:normal;font-family:Menlo,'DejaVu Sans Mono',consolas,'Courier New',monospace\"></pre>\n"
            ]
          },
          "metadata": {}
        },
        {
          "output_type": "display_data",
          "data": {
            "text/plain": [
              "Output()"
            ],
            "application/vnd.jupyter.widget-view+json": {
              "version_major": 2,
              "version_minor": 0,
              "model_id": "b57c1761c1674b8781b550d39055f543"
            }
          },
          "metadata": {}
        },
        {
          "output_type": "display_data",
          "data": {
            "text/plain": [],
            "text/html": [
              "<pre style=\"white-space:pre;overflow-x:auto;line-height:normal;font-family:Menlo,'DejaVu Sans Mono',consolas,'Courier New',monospace\"></pre>\n"
            ]
          },
          "metadata": {}
        },
        {
          "output_type": "display_data",
          "data": {
            "text/plain": [
              "\u001b[1;32mKnowledge graph constructed successfully at \u001b[0m\u001b[1;35m/content/\u001b[0m\u001b[1;95mmykg.nt\u001b[0m\n"
            ],
            "text/html": [
              "<pre style=\"white-space:pre;overflow-x:auto;line-height:normal;font-family:Menlo,'DejaVu Sans Mono',consolas,'Courier New',monospace\"><span style=\"color: #008000; text-decoration-color: #008000; font-weight: bold\">Knowledge graph constructed successfully at </span><span style=\"color: #800080; text-decoration-color: #800080; font-weight: bold\">/content/</span><span style=\"color: #ff00ff; text-decoration-color: #ff00ff; font-weight: bold\">mykg.nt</span>\n",
              "</pre>\n"
            ]
          },
          "metadata": {}
        },
        {
          "name": "stdout",
          "output_type": "stream",
          "text": [
            "Assistant: The knowledge graph has been successfully built using the selected Greece data sources. It is saved at /content/mykg.nt. Let me know if you need any further assistance!\n",
            "User: exit\n"
          ]
        }
      ],
      "execution_count": 3
    },
    {
      "cell_type": "markdown",
      "source": [
        "### Explanation of output\n",
        "**Explanation**: The user first asks what data sources are available in relation to Greece. The assistant queries the repository, and returns a list of resources.\n",
        "\n",
        "**User**: What data sources about Greece are available?\n",
        "\n",
        "**Assistant**: Responds with a list of resources\n",
        "\n",
        "---\n",
        "\n",
        "**Explanation**: The user first asks what data sources are available in relation to Greece. The assistant queries the repository, and returns a list of resources.\n",
        "\n",
        "**User**: I want to use the GAUL Greece_all.nt data source and the greece_water data source.\n",
        "\n",
        "**Assistant**: Adds the data sources to the KG targets.\n",
        "\n",
        "---\n",
        "\n",
        "**Explanation**: The user describes the build parameters of the KG. The assistant sets them correctly.\n",
        "\n",
        "**User**: Set the name for my graph to mykg.nt and the output directory to /content\n",
        "\n",
        "**Assistant**: Sets name and output directory.\n",
        "\n",
        "---\n",
        "\n",
        "Then the final KG is build."
      ],
      "metadata": {
        "id": "ZTYMuFYvIN8L"
      },
      "id": "ZTYMuFYvIN8L"
    }
  ],
  "metadata": {
    "kernelspec": {
      "display_name": "Python 3",
      "name": "python3"
    },
    "language_info": {
      "codemirror_mode": {
        "name": "ipython",
        "version": 2
      },
      "file_extension": ".py",
      "mimetype": "text/x-python",
      "name": "python",
      "nbconvert_exporter": "python",
      "pygments_lexer": "ipython2",
      "version": "2.7.6"
    },
    "colab": {
      "provenance": [],
      "gpuType": "T4",
      "toc_visible": true
    },
    "accelerator": "GPU",
    "widgets": {
      "application/vnd.jupyter.widget-state+json": {
        "2100593aae234d67b330cb061bf9cfd6": {
          "model_module": "@jupyter-widgets/output",
          "model_name": "OutputModel",
          "model_module_version": "1.0.0",
          "state": {
            "_dom_classes": [],
            "_model_module": "@jupyter-widgets/output",
            "_model_module_version": "1.0.0",
            "_model_name": "OutputModel",
            "_view_count": null,
            "_view_module": "@jupyter-widgets/output",
            "_view_module_version": "1.0.0",
            "_view_name": "OutputView",
            "layout": "IPY_MODEL_528fa026ee3d414290c2822abc17d768",
            "msg_id": "",
            "outputs": [
              {
                "output_type": "display_data",
                "data": {
                  "text/plain": "\u001b[32mAdded source file: /root/.toposkg/sources_cache/toposkg/GAUL/countries/Greece/Greece_all.nt\u001b[0m      \u001b[38;2;114;156;31m━━━━━━\u001b[0m \u001b[35m100%\u001b[0m \u001b[36m0:00:…\u001b[0m\n\u001b[36mWriting source file: /root/.toposkg/sources_cache/toposkg/OSM/waterbodies/Greece/greece_water.nt\u001b[0m \u001b[38;2;114;156;31m━━━━━━\u001b[0m \u001b[35m100%\u001b[0m \u001b[36m0:00:…\u001b[0m\n",
                  "text/html": "<pre style=\"white-space:pre;overflow-x:auto;line-height:normal;font-family:Menlo,'DejaVu Sans Mono',consolas,'Courier New',monospace\"><span style=\"color: #008000; text-decoration-color: #008000\">Added source file: /root/.toposkg/sources_cache/toposkg/GAUL/countries/Greece/Greece_all.nt</span>      <span style=\"color: #729c1f; text-decoration-color: #729c1f\">━━━━━━</span> <span style=\"color: #800080; text-decoration-color: #800080\">100%</span> <span style=\"color: #008080; text-decoration-color: #008080\">0:00:…</span>\n<span style=\"color: #008080; text-decoration-color: #008080\">Writing source file: /root/.toposkg/sources_cache/toposkg/OSM/waterbodies/Greece/greece_water.nt</span> <span style=\"color: #729c1f; text-decoration-color: #729c1f\">━━━━━━</span> <span style=\"color: #800080; text-decoration-color: #800080\">100%</span> <span style=\"color: #008080; text-decoration-color: #008080\">0:00:…</span>\n</pre>\n"
                },
                "metadata": {}
              }
            ]
          }
        },
        "528fa026ee3d414290c2822abc17d768": {
          "model_module": "@jupyter-widgets/base",
          "model_name": "LayoutModel",
          "model_module_version": "1.2.0",
          "state": {
            "_model_module": "@jupyter-widgets/base",
            "_model_module_version": "1.2.0",
            "_model_name": "LayoutModel",
            "_view_count": null,
            "_view_module": "@jupyter-widgets/base",
            "_view_module_version": "1.2.0",
            "_view_name": "LayoutView",
            "align_content": null,
            "align_items": null,
            "align_self": null,
            "border": null,
            "bottom": null,
            "display": null,
            "flex": null,
            "flex_flow": null,
            "grid_area": null,
            "grid_auto_columns": null,
            "grid_auto_flow": null,
            "grid_auto_rows": null,
            "grid_column": null,
            "grid_gap": null,
            "grid_row": null,
            "grid_template_areas": null,
            "grid_template_columns": null,
            "grid_template_rows": null,
            "height": null,
            "justify_content": null,
            "justify_items": null,
            "left": null,
            "margin": null,
            "max_height": null,
            "max_width": null,
            "min_height": null,
            "min_width": null,
            "object_fit": null,
            "object_position": null,
            "order": null,
            "overflow": null,
            "overflow_x": null,
            "overflow_y": null,
            "padding": null,
            "right": null,
            "top": null,
            "visibility": null,
            "width": null
          }
        },
        "b57c1761c1674b8781b550d39055f543": {
          "model_module": "@jupyter-widgets/output",
          "model_name": "OutputModel",
          "model_module_version": "1.0.0",
          "state": {
            "_dom_classes": [],
            "_model_module": "@jupyter-widgets/output",
            "_model_module_version": "1.0.0",
            "_model_name": "OutputModel",
            "_view_count": null,
            "_view_module": "@jupyter-widgets/output",
            "_view_module_version": "1.0.0",
            "_view_name": "OutputView",
            "layout": "IPY_MODEL_005bab5cc2a84a8fb4f78c516892f861",
            "msg_id": "",
            "outputs": [
              {
                "output_type": "display_data",
                "data": {
                  "text/plain": "",
                  "text/html": "<pre style=\"white-space:pre;overflow-x:auto;line-height:normal;font-family:Menlo,'DejaVu Sans Mono',consolas,'Courier New',monospace\"></pre>\n"
                },
                "metadata": {}
              }
            ]
          }
        },
        "005bab5cc2a84a8fb4f78c516892f861": {
          "model_module": "@jupyter-widgets/base",
          "model_name": "LayoutModel",
          "model_module_version": "1.2.0",
          "state": {
            "_model_module": "@jupyter-widgets/base",
            "_model_module_version": "1.2.0",
            "_model_name": "LayoutModel",
            "_view_count": null,
            "_view_module": "@jupyter-widgets/base",
            "_view_module_version": "1.2.0",
            "_view_name": "LayoutView",
            "align_content": null,
            "align_items": null,
            "align_self": null,
            "border": null,
            "bottom": null,
            "display": null,
            "flex": null,
            "flex_flow": null,
            "grid_area": null,
            "grid_auto_columns": null,
            "grid_auto_flow": null,
            "grid_auto_rows": null,
            "grid_column": null,
            "grid_gap": null,
            "grid_row": null,
            "grid_template_areas": null,
            "grid_template_columns": null,
            "grid_template_rows": null,
            "height": null,
            "justify_content": null,
            "justify_items": null,
            "left": null,
            "margin": null,
            "max_height": null,
            "max_width": null,
            "min_height": null,
            "min_width": null,
            "object_fit": null,
            "object_position": null,
            "order": null,
            "overflow": null,
            "overflow_x": null,
            "overflow_y": null,
            "padding": null,
            "right": null,
            "top": null,
            "visibility": null,
            "width": null
          }
        }
      }
    }
  },
  "nbformat": 4,
  "nbformat_minor": 5
}